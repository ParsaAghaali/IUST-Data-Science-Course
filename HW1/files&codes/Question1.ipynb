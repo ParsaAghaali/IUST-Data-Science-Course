{
 "cells": [
  {
   "cell_type": "markdown",
   "metadata": {},
   "source": [
    "Importing necessary libraries:"
   ]
  },
  {
   "cell_type": "code",
   "execution_count": 16,
   "metadata": {},
   "outputs": [],
   "source": [
    "import pandas as pd\n",
    "import matplotlib.pyplot as plt\n",
    "import seaborn as sns"
   ]
  },
  {
   "cell_type": "markdown",
   "metadata": {},
   "source": [
    "pd.read_ is used for loading the data into the code.\n",
    "<br/>\n",
    "use pd.read_csv() to load the data and store it into the 'df' variable:"
   ]
  },
  {
   "cell_type": "code",
   "execution_count": 57,
   "metadata": {},
   "outputs": [],
   "source": [
    "# YOUR CODE HERE"
   ]
  },
  {
   "cell_type": "markdown",
   "metadata": {},
   "source": [
    "use df.head(n) to see a few rows of your data:"
   ]
  },
  {
   "cell_type": "code",
   "execution_count": 60,
   "metadata": {},
   "outputs": [],
   "source": [
    "# YOUR CODE HERE"
   ]
  },
  {
   "cell_type": "markdown",
   "metadata": {},
   "source": [
    "The KDE plot is a technique that allows for non-parametric estimation of the probability density function of a random variable. Its primary use is to visually represent the distribution of a dataset, as well as to evaluate the assumptions made by parametric models and to uncover patterns and trends in the data.\n",
    "\n",
    "\n",
    "You can plot a column of the dataframe using the following command in seaborn:\n",
    "```\n",
    "sns.kdeplot(df['column1'])\n",
    "plt.show()\n",
    "```\n",
    "or mutiple columns using:\n",
    "```\n",
    "sns.kdeplot(df[['column1', 'column2', 'column3']])\n",
    "```"
   ]
  },
  {
   "cell_type": "code",
   "execution_count": 51,
   "metadata": {},
   "outputs": [],
   "source": [
    "# Draw kdeplot for the 'Calories Burn' column: \n",
    "\n",
    "# YOUR CODE HERE"
   ]
  },
  {
   "cell_type": "markdown",
   "metadata": {},
   "source": [
    "A histogram is a statistical graph that represents the distribution of a continuous dataset through plotted bars, each representing a particular category or class interval. The bar height reflects the frequency or count of data points within each group.\n",
    "search about:\n",
    "* how to use histplot in seaborn and matplotlib,\n",
    "* what is the usuage of the 'bins' parameter,\n",
    "* plot and compare the following columns:\n",
    "\n",
    "1. Dream Weight VS Actual Weight\n",
    "\n",
    "Do you see any limits?"
   ]
  },
  {
   "cell_type": "code",
   "execution_count": 52,
   "metadata": {},
   "outputs": [],
   "source": [
    "# YOUR CODE HERE"
   ]
  },
  {
   "cell_type": "markdown",
   "metadata": {},
   "source": [
    "There is a method for dataframes in pandas called .corr\n",
    "<br/>\n",
    "This method calculates the correlation matrix for all columns.\n",
    "<br/>\n",
    "search about different values for 'method' parameter in df.corr and use them."
   ]
  },
  {
   "cell_type": "code",
   "execution_count": 54,
   "metadata": {},
   "outputs": [],
   "source": [
    "# YOUR CODE HERE"
   ]
  },
  {
   "cell_type": "markdown",
   "metadata": {},
   "source": [
    "Oops!\n",
    "<br/>\n",
    "As you can see we can not use correlation matrix for categorical columns.\n",
    "<br/>\n",
    "We can use it just for numerical columns.\n",
    "<br/>\n",
    "df.drop() is used for removing a column/row from the dataframe.\n",
    "<br/>\n",
    "search about:\n",
    "* What is axis parameter,\n",
    "* How to drop multiple columns from the dataframe,\n",
    "* What is inplace parameter.\n",
    "<br/>\n",
    "\n",
    "try again "
   ]
  },
  {
   "cell_type": "code",
   "execution_count": null,
   "metadata": {},
   "outputs": [],
   "source": [
    "# YOUR CODE HERE"
   ]
  },
  {
   "cell_type": "markdown",
   "metadata": {},
   "source": [
    "### Thanks!"
   ]
  }
 ],
 "metadata": {
  "kernelspec": {
   "display_name": "TensorFlow_GPU",
   "language": "python",
   "name": "tensorflow_gpu"
  },
  "language_info": {
   "codemirror_mode": {
    "name": "ipython",
    "version": 3
   },
   "file_extension": ".py",
   "mimetype": "text/x-python",
   "name": "python",
   "nbconvert_exporter": "python",
   "pygments_lexer": "ipython3",
   "version": "3.10.0"
  }
 },
 "nbformat": 4,
 "nbformat_minor": 2
}
