{
 "cells": [
  {
   "cell_type": "markdown",
   "metadata": {},
   "source": [
    "Import necessary libraries:\n"
   ]
  },
  {
   "cell_type": "code",
   "execution_count": null,
   "metadata": {},
   "outputs": [],
   "source": [
    "# Displaying all columns in jupyter output\n",
    "# pd.set_option('display.max_columns', None)"
   ]
  },
  {
   "cell_type": "code",
   "execution_count": null,
   "metadata": {},
   "outputs": [],
   "source": [
    "# YOUR CODE HERE"
   ]
  },
  {
   "cell_type": "markdown",
   "metadata": {},
   "source": [
    "Read the data.\n"
   ]
  },
  {
   "cell_type": "code",
   "execution_count": null,
   "metadata": {},
   "outputs": [],
   "source": [
    "# YOUR CODE HERE"
   ]
  },
  {
   "cell_type": "markdown",
   "metadata": {},
   "source": [
    "How many null values do we have in each column?\n"
   ]
  },
  {
   "cell_type": "code",
   "execution_count": null,
   "metadata": {},
   "outputs": [],
   "source": [
    "# YOUR CODE HERE"
   ]
  },
  {
   "cell_type": "markdown",
   "metadata": {},
   "source": [
    "One-hot encode the column 'data_product_status'\n"
   ]
  },
  {
   "cell_type": "code",
   "execution_count": null,
   "metadata": {},
   "outputs": [],
   "source": [
    "# YOUR CODE HERE"
   ]
  },
  {
   "cell_type": "markdown",
   "metadata": {},
   "source": [
    "Make the column 'data_product_has_quick_view' binary.\n"
   ]
  },
  {
   "cell_type": "code",
   "execution_count": null,
   "metadata": {},
   "outputs": [],
   "source": [
    "# YOUR CODE HERE"
   ]
  },
  {
   "cell_type": "markdown",
   "metadata": {},
   "source": [
    "Make another dataframe called \"data_product_data_layer_categories\" from the column \"data_product_data_layer_category\"\n",
    "<br/>\n",
    "Each product must have a row, which the categories are neither 0 nor 1.\n",
    "<br/>\n",
    "for example, one row can be like this with the following columns(the columns must be in Persian):\n",
    "<br/>\n",
    "<br/>\n",
    "data_product_id: 1595827.0\n",
    "<br/>\n",
    "اسباب بازی = 1\n",
    "<br/>\n",
    "ابزار سلامت خانگی = 0\n"
   ]
  },
  {
   "cell_type": "code",
   "execution_count": null,
   "metadata": {},
   "outputs": [],
   "source": [
    "# YOUR CODE HERE"
   ]
  },
  {
   "cell_type": "markdown",
   "metadata": {},
   "source": [
    "Make another data frame according to the 'data_product_data_layer_category' named 'data_product_data_layer_category_mapping'\n",
    "<br/>\n",
    "in this data frame, we have two columns that maps the English abbreviation to the Persian category.\n"
   ]
  },
  {
   "cell_type": "code",
   "execution_count": null,
   "metadata": {},
   "outputs": [],
   "source": [
    "# YOUR CODE HERE"
   ]
  },
  {
   "cell_type": "markdown",
   "metadata": {},
   "source": [
    "Filter the rows in the data frame with the following values:\n",
    "<br/>\n",
    "<br/>\n",
    "data_product_data_layer_brand = سامسونگ\n",
    "<br/>\n",
    "data_product_data_layer_item_category2 = کالای دیجیتال\n",
    "<br/>\n",
    "&&\n",
    "<br/>\n",
    "data_product_data_layer_brand = اپل\n",
    "<br/>\n",
    "data_product_data_layer_item_category2 = کالای دیجیتال\n",
    "\n",
    "<br/>\n",
    "calculate the count of each.\n"
   ]
  },
  {
   "cell_type": "code",
   "execution_count": null,
   "metadata": {},
   "outputs": [],
   "source": [
    "# YOUR CODE HERE"
   ]
  },
  {
   "cell_type": "markdown",
   "metadata": {},
   "source": [
    "What are the 10 most repeated categories in 'data_product_data_layer_item_category4' with their relative percentage?\n"
   ]
  },
  {
   "cell_type": "code",
   "execution_count": null,
   "metadata": {},
   "outputs": [],
   "source": [
    "# YOUR CODE HERE"
   ]
  },
  {
   "cell_type": "markdown",
   "metadata": {},
   "source": [
    "How many distinct values are there in the 'data_product_product_type' column and what are they?\n"
   ]
  },
  {
   "cell_type": "code",
   "execution_count": null,
   "metadata": {},
   "outputs": [],
   "source": [
    "# YOUR CODE HERE"
   ]
  },
  {
   "cell_type": "markdown",
   "metadata": {},
   "source": [
    "Filter the rows that both columns 'data_product_digiplus_services' and 'data_product_digiplus_is_jet_eligible' are true in them.\n"
   ]
  },
  {
   "cell_type": "code",
   "execution_count": null,
   "metadata": {},
   "outputs": [],
   "source": [
    "# YOUR CODE HERE"
   ]
  },
  {
   "cell_type": "markdown",
   "metadata": {},
   "source": [
    "What values are in the following columns? What useful information do they have?:\n",
    "<br/>\n",
    "<br/>\n",
    "'data_product_digiplus_cash_back'\n",
    "<br/>\n",
    "'data_product_digiplus_is_general_location_jet_eligible'\n",
    "<br/>\n",
    "'data_product_images_main_thumbnail_url'\n",
    "<br/>\n",
    "'data_product_images_main_temporary_id'\n"
   ]
  },
  {
   "cell_type": "code",
   "execution_count": null,
   "metadata": {},
   "outputs": [],
   "source": [
    "# YOUR CODE HERE"
   ]
  },
  {
   "cell_type": "markdown",
   "metadata": {},
   "source": [
    "Plot the hist plot of the column 'data_product_digiplus_fast_shipping_text'\n"
   ]
  },
  {
   "cell_type": "code",
   "execution_count": null,
   "metadata": {},
   "outputs": [],
   "source": [
    "# YOUR CODE HERE"
   ]
  },
  {
   "cell_type": "markdown",
   "metadata": {},
   "source": [
    "Write a code that downloads the images in the 'data_product_images_main_url' column automatically.\n",
    "<br/>\n",
    "Run the code for 10 random rows and then plot the images using matplotlib.\n"
   ]
  },
  {
   "cell_type": "code",
   "execution_count": null,
   "metadata": {},
   "outputs": [],
   "source": [
    "# YOUR CODE HERE"
   ]
  },
  {
   "cell_type": "markdown",
   "metadata": {},
   "source": [
    "Plot the distribution of the 'data_product_rating_rate' column.\n"
   ]
  },
  {
   "cell_type": "code",
   "execution_count": null,
   "metadata": {},
   "outputs": [],
   "source": [
    "# YOUR CODE HERE"
   ]
  },
  {
   "cell_type": "markdown",
   "metadata": {},
   "source": [
    "Make another column based on the column 'data_product_rating_rate,' that has 10 values, 1 to 5.\n",
    "<br/>\n",
    "Each rate value must be categorized into one of these 5 categories based on the following rules.\n",
    "<br/>\n",
    "<br/>\n",
    "0<rate<20 ==> A\n",
    "<br/>\n",
    "20<rate<40 ==> B\n",
    "<br/>\n",
    "40<rate<60 ==> C\n",
    "<br/>\n",
    "60<rate<80 ==> D\n",
    "<br/>\n",
    "80<rate<100 ==> E\n"
   ]
  },
  {
   "cell_type": "code",
   "execution_count": null,
   "metadata": {},
   "outputs": [],
   "source": [
    "# YOUR CODE HERE"
   ]
  },
  {
   "cell_type": "markdown",
   "metadata": {},
   "source": [
    "What are the 5 products that have the most rate counts based on the column 'data_product_rating_count'?\n"
   ]
  },
  {
   "cell_type": "code",
   "execution_count": null,
   "metadata": {},
   "outputs": [],
   "source": [
    "# YOUR CODE HERE"
   ]
  },
  {
   "cell_type": "markdown",
   "metadata": {},
   "source": [
    "Add a new column 'data_product_color_ids' so that we only have the list of color 'id's of the product in the column.\n",
    "<br/>\n",
    "Then plot the distribution of the 20 most used product colors.\n",
    "<br/>\n",
    "What is the most used color in the products?\n"
   ]
  },
  {
   "cell_type": "code",
   "execution_count": null,
   "metadata": {},
   "outputs": [],
   "source": [
    "# YOUR CODE HERE"
   ]
  },
  {
   "cell_type": "markdown",
   "metadata": {},
   "source": [
    "Make another data frame called 'color_map' that maps the id of the color to the 'hex_code' and 'title' of the color based on the 'data_product_colors' column.\n"
   ]
  },
  {
   "cell_type": "code",
   "execution_count": null,
   "metadata": {},
   "outputs": [],
   "source": [
    "# YOUR CODE HERE"
   ]
  },
  {
   "cell_type": "markdown",
   "metadata": {},
   "source": [
    "Filter the rows that the seller has \"کالا\" in their name based on data_product_default_variant_seller_title column,\n",
    "<br/>\n",
    "How many rows each one has?\n",
    "<br/>\n",
    "How many null values are in this column?\n"
   ]
  },
  {
   "cell_type": "code",
   "execution_count": null,
   "metadata": {},
   "outputs": [],
   "source": [
    "# YOUR CODE HERE"
   ]
  },
  {
   "cell_type": "markdown",
   "metadata": {},
   "source": [
    "Create another data frame that maps the score of each seller to its name based on:<br/>\n",
    "data_product_default_variant_seller_title<br/>\n",
    "data_product_default_variant_seller_stars\n"
   ]
  },
  {
   "cell_type": "code",
   "execution_count": null,
   "metadata": {},
   "outputs": [],
   "source": [
    "# YOUR CODE HERE"
   ]
  },
  {
   "cell_type": "markdown",
   "metadata": {},
   "source": [
    "What is the system of labeling in the 'data_product_default_variant_seller_grade_label' column?\n"
   ]
  },
  {
   "cell_type": "code",
   "execution_count": null,
   "metadata": {},
   "outputs": [],
   "source": [
    "# YOUR CODE HERE"
   ]
  },
  {
   "cell_type": "markdown",
   "metadata": {},
   "source": [
    "Create another data frame named seller_history that maps the seller name to the count of months the seller is selling in DigiKala based on 'data_product_default_variant_seller_title' and 'data_product_default_variant_seller_registration_date' columns.\n"
   ]
  },
  {
   "cell_type": "code",
   "execution_count": null,
   "metadata": {},
   "outputs": [],
   "source": [
    "# YOUR CODE HERE"
   ]
  },
  {
   "cell_type": "markdown",
   "metadata": {},
   "source": [
    "Calculate the correlation between these columns based on appropriate method:<br/>\n",
    "data_product_rating_count<br/>\n",
    "data_product_comments_count<br/>\n",
    "<br/>\n",
    "data_intrack_eventData_unitPrice<br/>\n",
    "data_product_properties_min_price_in_last_month<br/>\n"
   ]
  },
  {
   "cell_type": "code",
   "execution_count": null,
   "metadata": {},
   "outputs": [],
   "source": [
    "# YOUR CODE HERE"
   ]
  },
  {
   "cell_type": "markdown",
   "metadata": {},
   "source": [
    "Which columns of the following columns are better for being dropped?<br/>\n",
    "Justify your answer.<br/><br/>\n",
    "data_product_default_variant_price_is_incredible<br/>\n",
    "data_product_default_variant_price_is_promotion<br/>\n",
    "data_product_default_variant_price_is_locked_for_digiplus\n"
   ]
  },
  {
   "cell_type": "code",
   "execution_count": null,
   "metadata": {},
   "outputs": [],
   "source": [
    "# YOUR CODE HERE"
   ]
  },
  {
   "cell_type": "markdown",
   "metadata": {},
   "source": [
    "Show top 10 products data_product_title_fa that have the most discount percentage based on 'data_product_default_variant_price_discount_percent'\n"
   ]
  },
  {
   "cell_type": "code",
   "execution_count": null,
   "metadata": {},
   "outputs": [],
   "source": [
    "# YOUR CODE HERE"
   ]
  },
  {
   "cell_type": "markdown",
   "metadata": {},
   "source": [
    "Calculate the percentage of each group in the 'data_product_default_variant_shipment_methods_description' column.\n"
   ]
  },
  {
   "cell_type": "code",
   "execution_count": null,
   "metadata": {},
   "outputs": [],
   "source": [
    "# YOUR CODE HERE"
   ]
  },
  {
   "cell_type": "markdown",
   "metadata": {},
   "source": [
    "How many products have 'data_product_properties_is_fast_shipping' and 'data_product_properties_is_ship_by_seller' columns True?\n"
   ]
  },
  {
   "cell_type": "code",
   "execution_count": null,
   "metadata": {},
   "outputs": [],
   "source": [
    "# YOUR CODE HERE"
   ]
  },
  {
   "cell_type": "markdown",
   "metadata": {},
   "source": [
    "Drop the following columns:<br/>\n",
    "\n",
    "data_product_properties_is_ad<br/>\n",
    "data_product_properties_ad<br/>\n",
    "data_product_properties_is_jet_eligible<br/>\n"
   ]
  },
  {
   "cell_type": "code",
   "execution_count": null,
   "metadata": {},
   "outputs": [],
   "source": [
    "# YOUR CODE HERE"
   ]
  },
  {
   "cell_type": "markdown",
   "metadata": {},
   "source": [
    "Extract the seller name that works in the medical field based on 'data_product_properties_is_medical_supplement'<br>\n",
    "Then, from the 'seller_history' data frame, extract the seller's history.\n"
   ]
  },
  {
   "cell_type": "code",
   "execution_count": null,
   "metadata": {},
   "outputs": [],
   "source": [
    "# YOUR CODE HERE"
   ]
  },
  {
   "cell_type": "markdown",
   "metadata": {},
   "source": [
    "What is the count of each category in the 'data_product_category_title_fa' column?\n"
   ]
  },
  {
   "cell_type": "code",
   "execution_count": null,
   "metadata": {},
   "outputs": [],
   "source": [
    "# YOUR CODE HERE"
   ]
  },
  {
   "cell_type": "markdown",
   "metadata": {},
   "source": [
    "Make a dataframe that maps the 'data_product_brand_id' to 'data_product_brand_code' and 'data_product_data_layer_brand'<br/>\n",
    "the data frame contains 3 columns, and each row represents one brand.\n"
   ]
  },
  {
   "cell_type": "code",
   "execution_count": null,
   "metadata": {},
   "outputs": [],
   "source": [
    "# YOUR CODE HERE"
   ]
  },
  {
   "cell_type": "markdown",
   "metadata": {},
   "source": [
    "Reuse your previous code for downloading and plotting the top 5 common brand logos from the 'data_product_brand_logo_url' column.\n"
   ]
  },
  {
   "cell_type": "code",
   "execution_count": null,
   "metadata": {},
   "outputs": [],
   "source": [
    "# YOUR CODE HERE"
   ]
  },
  {
   "cell_type": "markdown",
   "metadata": {},
   "source": [
    "Show top 5 products with the most comment count based on 'data_product_comments_count'\n"
   ]
  },
  {
   "cell_type": "code",
   "execution_count": null,
   "metadata": {},
   "outputs": [],
   "source": [
    "# YOUR CODE HERE"
   ]
  }
 ],
 "metadata": {
  "kernelspec": {
   "display_name": "Python 3",
   "language": "python",
   "name": "python3"
  },
  "language_info": {
   "codemirror_mode": {
    "name": "ipython",
    "version": 3
   },
   "file_extension": ".py",
   "mimetype": "text/x-python",
   "name": "python",
   "nbconvert_exporter": "python",
   "pygments_lexer": "ipython3",
   "version": "3.10.7"
  }
 },
 "nbformat": 4,
 "nbformat_minor": 2
}
